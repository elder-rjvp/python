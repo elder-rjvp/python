{
  "nbformat": 4,
  "nbformat_minor": 0,
  "metadata": {
    "colab": {
      "provenance": [],
      "include_colab_link": true
    },
    "kernelspec": {
      "name": "python3",
      "display_name": "Python 3"
    },
    "language_info": {
      "name": "python"
    }
  },
  "cells": [
    {
      "cell_type": "markdown",
      "metadata": {
        "id": "view-in-github",
        "colab_type": "text"
      },
      "source": [
        "<a href=\"https://colab.research.google.com/github/elder-rjvp/python/blob/main/C%C3%B3pia_de_Sistema_recomenda%C3%A7%C3%A3o_imagens.ipynb\" target=\"_parent\"><img src=\"https://colab.research.google.com/assets/colab-badge.svg\" alt=\"Open In Colab\"/></a>"
      ]
    },
    {
      "cell_type": "markdown",
      "source": [
        "#🎯 Projeto: Sistema de Recomendação por Similaridade de Imagens no Colab 🖼️🤝\n",
        "\n",
        "##🔍 Objetivo\n",
        "\n",
        "Criar um sistema de recomendação simples e eficiente que funcione diretamente no Google Colab. O sistema recomendará imagens de produtos similares com base na aparência visual, considerando características como formato, cor e textura. Ideal para e-commerce e outros cenários! 🛒👕👞"
      ],
      "metadata": {
        "id": "7Tl6jgeQOdYx"
      }
    },
    {
      "cell_type": "markdown",
      "source": [
        "### 🏁 Resumo do Projeto\n",
        "\n",
        "- **Dataset:** Fashion MNIST 🎨  \n",
        "- **Modelo:** Utilizamos MobileNetV2 pré-treinado para extrair características visuais 💡.  \n",
        "- **Similaridade:** Calculamos similaridades usando Cosine Similarity 🔗.  \n",
        "- **Visualização:** Recomendação de itens visualizada diretamente no Colab com Matplotlib 🖼️.  \n",
        "- **Testes:** Permite testar com imagens customizadas 📥.  \n",
        "\n",
        "#### 🛠️ Bibliotecas Usadas\n",
        "- TensorFlow  \n",
        "- Matplotlib  \n",
        "- NumPy  \n",
        "\n",
        "#### ⚡ Vantagens\n",
        "- Projeto rápido e leve.  \n",
        "- Funciona diretamente no Colab!  \n",
        "\n",
        "Se precisar de mais detalhes ou ajuda para ajustar, é só avisar! 🚀😊"
      ],
      "metadata": {
        "id": "Y97unm7aTjJy"
      }
    },
    {
      "cell_type": "markdown",
      "source": [
        "##🛠️ Passo a Passo para Construção do Projeto\n",
        "###1️⃣ Configurando o Ambiente\n",
        "\n",
        "📌 Primeiro, instalamos as bibliotecas essenciais no Colab para manter o projeto leve e rápido:"
      ],
      "metadata": {
        "id": "dnANpw8FPEKu"
      }
    },
    {
      "cell_type": "code",
      "execution_count": null,
      "metadata": {
        "id": "jmg8SwIzOUN6"
      },
      "outputs": [],
      "source": [
        "#!pip install tensorflow matplotlib numpy"
      ]
    },
    {
      "cell_type": "markdown",
      "source": [
        "###2️⃣ Selecionando o Dataset\n",
        "\n",
        "💾 Para simplificar, utilizaremos o dataset Fashion MNIST, embutido no TensorFlow. Ele contém 10 categorias de produtos (como camisetas, sapatos, bolsas) em imagens de baixa resolução.\n",
        "\n",
        "🏷️ Categorias disponíveis:\n",
        "\n",
        "0: T-shirt/top 👕\n",
        "\n",
        "1: Trouser 👖\n",
        "\n",
        "2: Pullover 🧥\n",
        "\n",
        "3: Dress 👗\n",
        "\n",
        "4: Coat 🧥\n",
        "\n",
        "5: Sandal 🩴\n",
        "\n",
        "6: Shirt 👔\n",
        "\n",
        "7: Sneaker 👟\n",
        "\n",
        "8: Bag 👜\n",
        "\n",
        "9: Ankle boot 👢"
      ],
      "metadata": {
        "id": "6J7bhGtcQI1k"
      }
    },
    {
      "cell_type": "code",
      "source": [
        "from tensorflow.keras.datasets import fashion_mnist\n",
        "(x_train, y_train), (x_test, y_test) = fashion_mnist.load_data()"
      ],
      "metadata": {
        "id": "1Ig4NSc4Qi1D"
      },
      "execution_count": null,
      "outputs": []
    },
    {
      "cell_type": "markdown",
      "source": [
        "###3️⃣ Criando o Modelo de Deep Learning\n",
        "\n",
        "💡 Usaremos o modelo pré-treinado MobileNetV2 para extrair embeddings (representações matemáticas das imagens) e identificar similaridades.\n",
        "\n",
        "📋 Passos:\n",
        "\n",
        "Adicione camadas extras para simplificar a saída.\n",
        "Use o modelo como \"feature extractor\" (extrator de características)."
      ],
      "metadata": {
        "id": "FMnlFqRiQnWL"
      }
    },
    {
      "cell_type": "code",
      "source": [
        "from tensorflow.keras.applications import MobileNetV2\n",
        "from tensorflow.keras.models import Model\n",
        "from tensorflow.keras.layers import GlobalAveragePooling2D\n",
        "\n",
        "# Carregando o MobileNetV2\n",
        "base_model = MobileNetV2(weights='imagenet', include_top=False, input_shape=(32, 32, 3))\n",
        "\n",
        "# Adicionando camada de pooling global\n",
        "model = Model(inputs=base_model.input, outputs=GlobalAveragePooling2D()(base_model.output))"
      ],
      "metadata": {
        "id": "v8oR8Vz2Q1c-",
        "outputId": "35abf3a9-a814-4d18-ee08-1202d4642a14",
        "colab": {
          "base_uri": "https://localhost:8080/"
        }
      },
      "execution_count": null,
      "outputs": [
        {
          "output_type": "stream",
          "name": "stderr",
          "text": [
            "<ipython-input-3-e92aaee30fe8>:6: UserWarning: `input_shape` is undefined or non-square, or `rows` is not in [96, 128, 160, 192, 224]. Weights for input shape (224, 224) will be loaded as the default.\n",
            "  base_model = MobileNetV2(weights='imagenet', include_top=False, input_shape=(32, 32, 3))\n"
          ]
        }
      ]
    },
    {
      "cell_type": "markdown",
      "source": [
        "###4️⃣ Processando as Imagens 🖌️\n",
        "\n",
        "🎨 Precisamos redimensionar e normalizar as imagens para que sejam compatíveis com o modelo:"
      ],
      "metadata": {
        "id": "auWDEu77RMtV"
      }
    },
    {
      "cell_type": "code",
      "source": [
        "\n",
        "import numpy as np\n",
        "from tensorflow.image import resize\n",
        "\n",
        "def preprocess_images(images):\n",
        "    # Add a channel dimension using np.expand_dims\n",
        "    images = np.expand_dims(images, axis=-1)\n",
        "    images = np.array([resize(img, (32, 32)).numpy() for img in images])  # Redimensiona para 128x128\n",
        "    return np.repeat(images, 3, axis=-1) / 255.0  # Normaliza e converte para 3 canais\n",
        "\n",
        "x_train_processed = preprocess_images(x_train)\n",
        "x_test_processed = preprocess_images(x_test)"
      ],
      "metadata": {
        "id": "SZ3aS7U4Rcuo"
      },
      "execution_count": null,
      "outputs": []
    },
    {
      "cell_type": "markdown",
      "source": [
        "###5️⃣ Gerando Embeddings 🔢\n",
        "\n",
        "📌 Usaremos o modelo para transformar as imagens em embeddings, que são representações matemáticas no espaço latente."
      ],
      "metadata": {
        "id": "s3O0nf3-RmxL"
      }
    },
    {
      "cell_type": "code",
      "source": [
        "train_embeddings = model.predict(x_train_processed)\n",
        "test_embeddings = model.predict(x_test_processed)"
      ],
      "metadata": {
        "id": "481RLBYMRxXW",
        "outputId": "1c2cd03e-30d3-4326-8f92-87b845dcddfb",
        "colab": {
          "base_uri": "https://localhost:8080/"
        }
      },
      "execution_count": null,
      "outputs": [
        {
          "output_type": "stream",
          "name": "stdout",
          "text": [
            "\u001b[1m1875/1875\u001b[0m \u001b[32m━━━━━━━━━━━━━━━━━━━━\u001b[0m\u001b[37m\u001b[0m \u001b[1m69s\u001b[0m 36ms/step\n",
            "\u001b[1m313/313\u001b[0m \u001b[32m━━━━━━━━━━━━━━━━━━━━\u001b[0m\u001b[37m\u001b[0m \u001b[1m14s\u001b[0m 45ms/step\n"
          ]
        }
      ]
    },
    {
      "cell_type": "markdown",
      "source": [
        "###6️⃣ Calculando Similaridade 🧮\n",
        "\n",
        "🔍 Para recomendar imagens, utilizamos a distância de similaridade coseno entre os embeddings."
      ],
      "metadata": {
        "id": "5WqEKUZCR1rv"
      }
    },
    {
      "cell_type": "code",
      "source": [
        "from sklearn.metrics.pairwise import cosine_similarity\n",
        "\n",
        "def get_similar_images(query_embedding, embeddings, k=5):\n",
        "    similarities = cosine_similarity([query_embedding], embeddings)  # Calcula similaridade\n",
        "    indices = np.argsort(similarities[0])[::-1][:k]  # Ordena por similaridade\n",
        "    return indices"
      ],
      "metadata": {
        "id": "yA0IxFyoR_oJ"
      },
      "execution_count": null,
      "outputs": []
    },
    {
      "cell_type": "markdown",
      "source": [
        "###7️⃣ Visualizando Recomendações 🖼️✨\n",
        "\n",
        "📸 Mostramos as imagens similares ao usuário diretamente no Colab usando Matplotlib."
      ],
      "metadata": {
        "id": "TD-6Mb6XSDiy"
      }
    },
    {
      "cell_type": "code",
      "source": [
        "import matplotlib.pyplot as plt\n",
        "\n",
        "def plot_images(indices, images):\n",
        "    plt.figure(figsize=(10, 2))\n",
        "    for i, idx in enumerate(indices):\n",
        "        plt.subplot(1, len(indices), i + 1)\n",
        "        plt.imshow(images[idx].squeeze(), cmap='gray')\n",
        "        plt.axis('off')\n",
        "    plt.show()\n",
        "\n",
        "# Testando com uma imagem de exemplo\n",
        "query_index = 0  # Índice da imagem de consulta\n",
        "similar_indices = get_similar_images(train_embeddings[query_index], train_embeddings)\n",
        "plot_images(similar_indices, x_train)"
      ],
      "metadata": {
        "id": "oF7xxX73SOH1",
        "outputId": "b1fa88c7-eac6-4e6e-e265-eff8813bbb84",
        "colab": {
          "base_uri": "https://localhost:8080/",
          "height": 54
        }
      },
      "execution_count": null,
      "outputs": [
        {
          "output_type": "display_data",
          "data": {
            "text/plain": [
              "<Figure size 1000x200 with 5 Axes>"
            ],
            "image/png": "[encoded data removed]"
          },
          "metadata": {}
        }
      ]
    },
    {
      "cell_type": "markdown",
      "source": [
        "###8️⃣ Teste com Imagens Customizadas 📥\n",
        "\n",
        "🔄 Permita que o usuário faça upload de uma imagem para testar recomendações:"
      ],
      "metadata": {
        "id": "ObWl6rL6SR9W"
      }
    },
    {
      "cell_type": "code",
      "source": [
        "from google.colab import files\n",
        "from tensorflow.keras.preprocessing import image\n",
        "\n",
        "uploaded = files.upload()\n",
        "for filename in uploaded.keys():\n",
        "    img = image.load_img(filename, target_size=(128, 128))\n",
        "    img_array = np.expand_dims(np.array(img) / 255.0, axis=0)\n",
        "    query_embedding = model.predict(img_array)\n",
        "    similar_indices = get_similar_images(query_embedding[0], train_embeddings)\n",
        "    plot_images(similar_indices, x_train)"
      ],
      "metadata": {
        "id": "9f0cJL7kSZL_",
        "outputId": "c92331b7-56a4-4c4f-a9dd-9641e543dcc1",
        "colab": {
          "base_uri": "https://localhost:8080/",
          "height": 200
        }
      },
      "execution_count": null,
      "outputs": [
        {
          "output_type": "display_data",
          "data": {
            "text/plain": [
              "<IPython.core.display.HTML object>"
            ],
            "text/html": [
              "\n",
              "     <input type=\"file\" id=\"files-5f0c3a8f-d811-4650-9278-2fdbe04607f7\" name=\"files[]\" multiple disabled\n",
              "        style=\"border:none\" />\n",
              "     <output id=\"result-5f0c3a8f-d811-4650-9278-2fdbe04607f7\">\n",
              "      Upload widget is only available when the cell has been executed in the\n",
              "      current browser session. Please rerun this cell to enable.\n",
              "      </output>\n",
              "      <script>// Copyright 2017 Google LLC\n",
              "//\n",
              "// Licensed under the Apache License, Version 2.0 (the \"License\");\n",
              "// you may not use this file except in compliance with the License.\n",
              "// You may obtain a copy of the License at\n",
              "//\n",
              "//      http://www.apache.org/licenses/LICENSE-2.0\n",
              "//\n",
              "// Unless required by applicable law or agreed to in writing, software\n",
              "// distributed under the License is distributed on an \"AS IS\" BASIS,\n",
              "// WITHOUT WARRANTIES OR CONDITIONS OF ANY KIND, either express or implied.\n",
              "// See the License for the specific language governing permissions and\n",
              "// limitations under the License.\n",
              "\n",
              "/**\n",
              " * @fileoverview Helpers for google.colab Python module.\n",
              " */\n",
              "(function(scope) {\n",
              "function span(text, styleAttributes = {}) {\n",
              "  const element = document.createElement('span');\n",
              "  element.textContent = text;\n",
              "  for (const key of Object.keys(styleAttributes)) {\n",
              "    element.style[key] = styleAttributes[key];\n",
              "  }\n",
              "  return element;\n",
              "}\n",
              "\n",
              "// Max number of bytes which will be uploaded at a time.\n",
              "const MAX_PAYLOAD_SIZE = 100 * 1024;\n",
              "\n",
              "function _uploadFiles(inputId, outputId) {\n",
              "  const steps = uploadFilesStep(inputId, outputId);\n",
              "  const outputElement = document.getElementById(outputId);\n",
              "  // Cache steps on the outputElement to make it available for the next call\n",
              "  // to uploadFilesContinue from Python.\n",
              "  outputElement.steps = steps;\n",
              "\n",
              "  return _uploadFilesContinue(outputId);\n",
              "}\n",
              "\n",
              "// This is roughly an async generator (not supported in the browser yet),\n",
              "// where there are multiple asynchronous steps and the Python side is going\n",
              "// to poll for completion of each step.\n",
              "// This uses a Promise to block the python side on completion of each step,\n",
              "// then passes the result of the previous step as the input to the next step.\n",
              "function _uploadFilesContinue(outputId) {\n",
              "  const outputElement = document.getElementById(outputId);\n",
              "  const steps = outputElement.steps;\n",
              "\n",
              "  const next = steps.next(outputElement.lastPromiseValue);\n",
              "  return Promise.resolve(next.value.promise).then((value) => {\n",
              "    // Cache the last promise value to make it available to the next\n",
              "    // step of the generator.\n",
              "    outputElement.lastPromiseValue = value;\n",
              "    return next.value.response;\n",
              "  });\n",
              "}\n",
              "\n",
              "/**\n",
              " * Generator function which is called between each async step of the upload\n",
              " * process.\n",
              " * @param {string} inputId Element ID of the input file picker element.\n",
              " * @param {string} outputId Element ID of the output display.\n",
              " * @return {!Iterable<!Object>} Iterable of next steps.\n",
              " */\n",
              "function* uploadFilesStep(inputId, outputId) {\n",
              "  const inputElement = document.getElementById(inputId);\n",
              "  inputElement.disabled = false;\n",
              "\n",
              "  const outputElement = document.getElementById(outputId);\n",
              "  outputElement.innerHTML = '';\n",
              "\n",
              "  const pickedPromise = new Promise((resolve) => {\n",
              "    inputElement.addEventListener('change', (e) => {\n",
              "      resolve(e.target.files);\n",
              "    });\n",
              "  });\n",
              "\n",
              "  const cancel = document.createElement('button');\n",
              "  inputElement.parentElement.appendChild(cancel);\n",
              "  cancel.textContent = 'Cancel upload';\n",
              "  const cancelPromise = new Promise((resolve) => {\n",
              "    cancel.onclick = () => {\n",
              "      resolve(null);\n",
              "    };\n",
              "  });\n",
              "\n",
              "  // Wait for the user to pick the files.\n",
              "  const files = yield {\n",
              "    promise: Promise.race([pickedPromise, cancelPromise]),\n",
              "    response: {\n",
              "      action: 'starting',\n",
              "    }\n",
              "  };\n",
              "\n",
              "  cancel.remove();\n",
              "\n",
              "  // Disable the input element since further picks are not allowed.\n",
              "  inputElement.disabled = true;\n",
              "\n",
              "  if (!files) {\n",
              "    return {\n",
              "      response: {\n",
              "        action: 'complete',\n",
              "      }\n",
              "    };\n",
              "  }\n",
              "\n",
              "  for (const file of files) {\n",
              "    const li = document.createElement('li');\n",
              "    li.append(span(file.name, {fontWeight: 'bold'}));\n",
              "    li.append(span(\n",
              "        `(${file.type || 'n/a'}) - ${file.size} bytes, ` +\n",
              "        `last modified: ${\n",
              "            file.lastModifiedDate ? file.lastModifiedDate.toLocaleDateString() :\n",
              "                                    'n/a'} - `));\n",
              "    const percent = span('0% done');\n",
              "    li.appendChild(percent);\n",
              "\n",
              "    outputElement.appendChild(li);\n",
              "\n",
              "    const fileDataPromise = new Promise((resolve) => {\n",
              "      const reader = new FileReader();\n",
              "      reader.onload = (e) => {\n",
              "        resolve(e.target.result);\n",
              "      };\n",
              "      reader.readAsArrayBuffer(file);\n",
              "    });\n",
              "    // Wait for the data to be ready.\n",
              "    let fileData = yield {\n",
              "      promise: fileDataPromise,\n",
              "      response: {\n",
              "        action: 'continue',\n",
              "      }\n",
              "    };\n",
              "\n",
              "    // Use a chunked sending to avoid message size limits. See b/62115660.\n",
              "    let position = 0;\n",
              "    do {\n",
              "      const length = Math.min(fileData.byteLength - position, MAX_PAYLOAD_SIZE);\n",
              "      const chunk = new Uint8Array(fileData, position, length);\n",
              "      position += length;\n",
              "\n",
              "      const base64 = btoa(String.fromCharCode.apply(null, chunk));\n",
              "      yield {\n",
              "        response: {\n",
              "          action: 'append',\n",
              "          file: file.name,\n",
              "          data: base64,\n",
              "        },\n",
              "      };\n",
              "\n",
              "      let percentDone = fileData.byteLength === 0 ?\n",
              "          100 :\n",
              "          Math.round((position / fileData.byteLength) * 100);\n",
              "      percent.textContent = `${percentDone}% done`;\n",
              "\n",
              "    } while (position < fileData.byteLength);\n",
              "  }\n",
              "\n",
              "  // All done.\n",
              "  yield {\n",
              "    response: {\n",
              "      action: 'complete',\n",
              "    }\n",
              "  };\n",
              "}\n",
              "\n",
              "scope.google = scope.google || {};\n",
              "scope.google.colab = scope.google.colab || {};\n",
              "scope.google.colab._files = {\n",
              "  _uploadFiles,\n",
              "  _uploadFilesContinue,\n",
              "};\n",
              "})(self);\n",
              "</script> "
            ]
          },
          "metadata": {}
        },
        {
          "output_type": "stream",
          "name": "stdout",
          "text": [
            "Saving download.webp to download.webp\n",
            "\u001b[1m1/1\u001b[0m \u001b[32m━━━━━━━━━━━━━━━━━━━━\u001b[0m\u001b[37m\u001b[0m \u001b[1m3s\u001b[0m 3s/step\n"
          ]
        },
        {
          "output_type": "display_data",
          "data": {
            "text/plain": [
              "<Figure size 1000x200 with 5 Axes>"
            ],
            "image/png": "[encoded data removed]"
          },
          "metadata": {}
        }
      ]
    },
    {
      "cell_type": "markdown",
      "source": [],
      "metadata": {
        "id": "aUfCRr7OSfvZ"
      }
    }
  ]
}